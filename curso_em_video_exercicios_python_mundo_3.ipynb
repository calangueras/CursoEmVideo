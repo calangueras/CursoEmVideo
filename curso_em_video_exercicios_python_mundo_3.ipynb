{
  "cells": [
    {
      "cell_type": "markdown",
      "metadata": {
        "id": "view-in-github",
        "colab_type": "text"
      },
      "source": [
        "<a href=\"https://colab.research.google.com/github/calangueras/CursoEmVideo/blob/main/curso_em_video_exercicios_python_mundo_3.ipynb\" target=\"_parent\"><img src=\"https://colab.research.google.com/assets/colab-badge.svg\" alt=\"Open In Colab\"/></a>"
      ]
    },
    {
      "cell_type": "markdown",
      "id": "9d0178e0",
      "metadata": {
        "id": "9d0178e0"
      },
      "source": [
        "# Curso em Vídeo - Exercícios de Python 3 - Mundo 3"
      ]
    },
    {
      "cell_type": "markdown",
      "id": "a3da880c",
      "metadata": {
        "id": "a3da880c"
      },
      "source": [
        "## Aula 16"
      ]
    },
    {
      "cell_type": "markdown",
      "id": "0b39181a",
      "metadata": {
        "id": "0b39181a"
      },
      "source": [
        "### Exercício 072: Crie um programa que tenha uma dupla totalmente preenchida com uma contagem por extenso, de zero até vinte. Seu programa deverá ler um número pelo teclado (entre 0 e 20) e mostrá-lo por extenso."
      ]
    },
    {
      "cell_type": "code",
      "execution_count": null,
      "id": "f4aa08ff",
      "metadata": {
        "id": "f4aa08ff"
      },
      "outputs": [],
      "source": []
    },
    {
      "cell_type": "markdown",
      "id": "2472c3a1",
      "metadata": {
        "id": "2472c3a1"
      },
      "source": [
        "### Exercício 073: Crie uma tupla preenchida com os 20 primeiros colocados da Tabela do Campeonato Brasileiro de Futebol, na ordem de colocação. Depois mostre:"
      ]
    },
    {
      "cell_type": "code",
      "execution_count": null,
      "id": "24c7bee7",
      "metadata": {
        "id": "24c7bee7"
      },
      "outputs": [],
      "source": []
    },
    {
      "cell_type": "markdown",
      "id": "6a4c6de7",
      "metadata": {
        "id": "6a4c6de7"
      },
      "source": [
        "### Exercício 074: Crie um programa que vai gerar cinco números aleatórios e colocar em uma tupla. Depois disso, mostre a listagem de números gerados e também indique o menor e o maior valor que estão na tupla."
      ]
    },
    {
      "cell_type": "code",
      "execution_count": null,
      "id": "82a57124",
      "metadata": {
        "id": "82a57124"
      },
      "outputs": [],
      "source": []
    },
    {
      "cell_type": "markdown",
      "id": "e4867202",
      "metadata": {
        "id": "e4867202"
      },
      "source": [
        "### Exercício 075: Desenvolva um programa que leia quatro valores pelo teclado e guarde-os em uma tupla. No final, mostre:"
      ]
    },
    {
      "cell_type": "code",
      "execution_count": null,
      "id": "e8473ad4",
      "metadata": {
        "id": "e8473ad4"
      },
      "outputs": [],
      "source": []
    },
    {
      "cell_type": "markdown",
      "id": "9bf4984f",
      "metadata": {
        "id": "9bf4984f"
      },
      "source": [
        "### Exercício 076: Crie um programa que tenha uma tupla única com nomes de produtos e seus respectivos preços, na sequência. No final, mostre uma listagem de preços, organizando os dados em forma tabular."
      ]
    },
    {
      "cell_type": "code",
      "execution_count": null,
      "id": "98a2eddd",
      "metadata": {
        "id": "98a2eddd"
      },
      "outputs": [],
      "source": []
    },
    {
      "cell_type": "markdown",
      "id": "378cb42b",
      "metadata": {
        "id": "378cb42b"
      },
      "source": [
        "### Exercício 077: Crie um programa que tenha uma tupla com várias palavras (não usar acentos). Depois disso, você deve mostrar, para cada palavra, quais são as suas vogais."
      ]
    },
    {
      "cell_type": "code",
      "execution_count": null,
      "id": "bcebe30c",
      "metadata": {
        "id": "bcebe30c"
      },
      "outputs": [],
      "source": []
    },
    {
      "cell_type": "markdown",
      "id": "b41579cd",
      "metadata": {
        "id": "b41579cd"
      },
      "source": [
        "## Aula 17"
      ]
    },
    {
      "cell_type": "markdown",
      "id": "403879ee",
      "metadata": {
        "id": "403879ee"
      },
      "source": [
        "### Exercício 078: Faça um programa que leia 5 valores numéricos e guarde-os em uma lista. No final, mostre qual foi o maior e o menor valor digitado e as suas respectivas posições na lista."
      ]
    },
    {
      "cell_type": "code",
      "execution_count": null,
      "id": "2e4b0728",
      "metadata": {
        "id": "2e4b0728"
      },
      "outputs": [],
      "source": []
    },
    {
      "cell_type": "markdown",
      "id": "2cd57645",
      "metadata": {
        "id": "2cd57645"
      },
      "source": [
        "### Exercício 079: Crie um programa onde o usuário possa digitar vários valores numéricos e cadastre-os em uma lista. Caso o número já exista lá dentro, ele não será adicionado. No final, serão exibidos todos os valores únicos digitados, em ordem crescente."
      ]
    },
    {
      "cell_type": "code",
      "execution_count": null,
      "id": "1ac90100",
      "metadata": {
        "id": "1ac90100"
      },
      "outputs": [],
      "source": []
    },
    {
      "cell_type": "markdown",
      "id": "1d210636",
      "metadata": {
        "id": "1d210636"
      },
      "source": [
        "### Exercício 080: Crie um programa onde o usuário possa digitar cinco valores numéricos e cadastre-os em uma lista, já na posição correta de inserção (sem usar o sort()). No final, mostre a lista ordenada na tela."
      ]
    },
    {
      "cell_type": "code",
      "execution_count": null,
      "id": "7bf5b30b",
      "metadata": {
        "id": "7bf5b30b"
      },
      "outputs": [],
      "source": []
    },
    {
      "cell_type": "markdown",
      "id": "59c5c35e",
      "metadata": {
        "id": "59c5c35e"
      },
      "source": [
        "### Exercício 081: Crie um programa que vai ler vários números e colocar em uma lista. Depois disso, mostre:"
      ]
    },
    {
      "cell_type": "code",
      "execution_count": null,
      "id": "ccaed2a3",
      "metadata": {
        "id": "ccaed2a3"
      },
      "outputs": [],
      "source": []
    },
    {
      "cell_type": "markdown",
      "id": "9bd98077",
      "metadata": {
        "id": "9bd98077"
      },
      "source": [
        "### Exercício 082: Crie um programa que vai ler vários números e colocar em uma lista. Depois disso, crie duas listas extras que vão conter apenas os valores pares e os valores ímpares digitados, respectivamente. Ao final, mostre o conteúdo das três listas geradas."
      ]
    },
    {
      "cell_type": "code",
      "execution_count": null,
      "id": "1f9e4849",
      "metadata": {
        "id": "1f9e4849"
      },
      "outputs": [],
      "source": []
    },
    {
      "cell_type": "markdown",
      "id": "ad45ff78",
      "metadata": {
        "id": "ad45ff78"
      },
      "source": [
        "### Exercício 083: Crie um programa onde o usuário digite uma expressão qualquer que use parênteses. Seu aplicativo deverá analisar se a expressão passada está com os parênteses abertos e fechados na ordem correta."
      ]
    },
    {
      "cell_type": "code",
      "execution_count": null,
      "id": "effb2cda",
      "metadata": {
        "id": "effb2cda"
      },
      "outputs": [],
      "source": []
    },
    {
      "cell_type": "markdown",
      "id": "23b0464b",
      "metadata": {
        "id": "23b0464b"
      },
      "source": [
        "## Aula 18"
      ]
    },
    {
      "cell_type": "markdown",
      "id": "23d7c0d1",
      "metadata": {
        "id": "23d7c0d1"
      },
      "source": [
        "### Exercício 084: Faça um programa que leia nome e peso de várias pessoas, guardando tudo em uma lista. No final, mostre:"
      ]
    },
    {
      "cell_type": "code",
      "execution_count": null,
      "id": "1364ae45",
      "metadata": {
        "id": "1364ae45"
      },
      "outputs": [],
      "source": []
    },
    {
      "cell_type": "markdown",
      "id": "849d8a73",
      "metadata": {
        "id": "849d8a73"
      },
      "source": [
        "### Exercício 085: Crie um programa onde o usuário possa digitar sete valores numéricos e cadastre-os em uma lista única que mantenha separados os valores pares e ímpares. No final, mostre os valores pares e ímpares em ordem crescente."
      ]
    },
    {
      "cell_type": "code",
      "execution_count": null,
      "id": "760f00a6",
      "metadata": {
        "id": "760f00a6"
      },
      "outputs": [],
      "source": []
    },
    {
      "cell_type": "markdown",
      "id": "a5724b49",
      "metadata": {
        "id": "a5724b49"
      },
      "source": [
        "### Exercício 086: Crie um programa que declare uma matriz de dimensão 3x3 e preencha com valores lidos pelo teclado. No final, mostre a matriz na tela, com a formatação correta."
      ]
    },
    {
      "cell_type": "code",
      "execution_count": null,
      "id": "3c906c48",
      "metadata": {
        "id": "3c906c48"
      },
      "outputs": [],
      "source": []
    },
    {
      "cell_type": "markdown",
      "id": "3307f479",
      "metadata": {
        "id": "3307f479"
      },
      "source": [
        "### Exercício 087: Aprimore o desafio anterior, mostrando no final:"
      ]
    },
    {
      "cell_type": "code",
      "execution_count": null,
      "id": "2d444968",
      "metadata": {
        "id": "2d444968"
      },
      "outputs": [],
      "source": []
    },
    {
      "cell_type": "markdown",
      "id": "a2d9f242",
      "metadata": {
        "id": "a2d9f242"
      },
      "source": [
        "### Exercício 088: Faça um programa que ajude um jogador da MEGA SENA a criar palpites.O programa vai perguntar quantos jogos serão gerados e vai sortear 6 números entre 1 e 60 para cada jogo, cadastrando tudo em uma lista composta."
      ]
    },
    {
      "cell_type": "code",
      "execution_count": null,
      "id": "f25931dc",
      "metadata": {
        "id": "f25931dc"
      },
      "outputs": [],
      "source": []
    },
    {
      "cell_type": "markdown",
      "id": "7f86c426",
      "metadata": {
        "id": "7f86c426"
      },
      "source": [
        "### Exercício 089: Crie um programa que leia nome e duas notas de vários alunos e guarde tudo em uma lista composta. No final, mostre um boletim contendo a média de cada um e permita que o usuário possa mostrar as notas de cada aluno individualmente."
      ]
    },
    {
      "cell_type": "code",
      "execution_count": null,
      "id": "6d6d8e9d",
      "metadata": {
        "id": "6d6d8e9d"
      },
      "outputs": [],
      "source": []
    },
    {
      "cell_type": "markdown",
      "id": "27ab9cea",
      "metadata": {
        "id": "27ab9cea"
      },
      "source": [
        "## Aula 19"
      ]
    },
    {
      "cell_type": "markdown",
      "id": "c0ed71f4",
      "metadata": {
        "id": "c0ed71f4"
      },
      "source": [
        "### Exercício 090: Faça um programa que leia nome e média de um aluno, guardando também a situação em um dicionário. No final, mostre o conteúdo da estrutura na tela."
      ]
    },
    {
      "cell_type": "code",
      "execution_count": null,
      "id": "8b870e1f",
      "metadata": {
        "id": "8b870e1f"
      },
      "outputs": [],
      "source": []
    },
    {
      "cell_type": "markdown",
      "id": "80144336",
      "metadata": {
        "id": "80144336"
      },
      "source": [
        "### Exercício 091: Crie um programa onde 4 jogadores joguem um dado e tenham resultados aleatórios. Guarde esses resultados em um dicionário em Python. No final, coloque esse dicionário em ordem, sabendo que o vencedor tirou o maior número no dado."
      ]
    },
    {
      "cell_type": "code",
      "execution_count": null,
      "id": "ff9fc29a",
      "metadata": {
        "id": "ff9fc29a"
      },
      "outputs": [],
      "source": []
    },
    {
      "cell_type": "markdown",
      "id": "4f403afe",
      "metadata": {
        "id": "4f403afe"
      },
      "source": [
        "### Exercício 092: Crie um programa que leia nome, ano de nascimento e carteira de trabalho e cadastre-o (com idade) em um dicionário. Se por acaso a CTPS for diferente de ZERO, o dicionário receberá também o ano de contratação e o salário. Calcule e acrescente, além da idade, com quantos anos a pessoa vai se aposentar."
      ]
    },
    {
      "cell_type": "code",
      "execution_count": null,
      "id": "cf11a6a7",
      "metadata": {
        "id": "cf11a6a7"
      },
      "outputs": [],
      "source": []
    },
    {
      "cell_type": "markdown",
      "id": "22b0194e",
      "metadata": {
        "id": "22b0194e"
      },
      "source": [
        "### Exercício 093: Crie um programa que gerencie o aproveitamento de um jogador de futebol. O programa vai ler o nome do jogador e quantas partidas ele jogou. Depois vai ler a quantidade de gols feitos em cada partida. No final, tudo isso será guardado em um dicionário, incluindo o total de gols feitos durante o campeonato."
      ]
    },
    {
      "cell_type": "code",
      "execution_count": null,
      "id": "7f7a7ceb",
      "metadata": {
        "id": "7f7a7ceb"
      },
      "outputs": [],
      "source": []
    },
    {
      "cell_type": "markdown",
      "id": "59913a12",
      "metadata": {
        "id": "59913a12"
      },
      "source": [
        "### Exercício 094: Crie um programa que leia nome, sexo e idade de várias pessoas, guardando os dados de cada pessoa em um dicionário e todos os dicionários em uma lista. No final, mostre:"
      ]
    },
    {
      "cell_type": "code",
      "execution_count": null,
      "id": "abf5d2b0",
      "metadata": {
        "id": "abf5d2b0"
      },
      "outputs": [],
      "source": []
    },
    {
      "cell_type": "markdown",
      "id": "e9b24477",
      "metadata": {
        "id": "e9b24477"
      },
      "source": [
        "### Exercício 095: Aprimore o desafio 93 para que ele funcione com vários jogadores, incluindo um sistema de visualização de detalhes do aproveitamento de cada jogador."
      ]
    },
    {
      "cell_type": "code",
      "execution_count": null,
      "id": "f1ed5f36",
      "metadata": {
        "id": "f1ed5f36"
      },
      "outputs": [],
      "source": []
    },
    {
      "cell_type": "markdown",
      "id": "16d51015",
      "metadata": {
        "id": "16d51015"
      },
      "source": [
        "## Aula 20"
      ]
    },
    {
      "cell_type": "markdown",
      "id": "c33dde67",
      "metadata": {
        "id": "c33dde67"
      },
      "source": [
        "### Exercício 096: Faça um programa que tenha uma função chamada área(), que receba as dimensões de um terreno retangular (largura e comprimento) e mostre a área do terreno."
      ]
    },
    {
      "cell_type": "code",
      "execution_count": null,
      "id": "d8a48597",
      "metadata": {
        "id": "d8a48597"
      },
      "outputs": [],
      "source": []
    },
    {
      "cell_type": "markdown",
      "id": "677e8777",
      "metadata": {
        "id": "677e8777"
      },
      "source": [
        "### Exercício 097: Faça um programa que tenha uma função chamada escreva(), que receba um texto qualquer como parâmetro e mostre uma mensagem com tamanho adaptável."
      ]
    },
    {
      "cell_type": "code",
      "execution_count": null,
      "id": "85a0654f",
      "metadata": {
        "id": "85a0654f"
      },
      "outputs": [],
      "source": []
    },
    {
      "cell_type": "markdown",
      "id": "e77b8abd",
      "metadata": {
        "id": "e77b8abd"
      },
      "source": [
        "### Exercício 098: Faça um programa que tenha uma função chamada contador(), que receba três parâmetros: início, fim e passo. Seu programa tem que realizar três contagens através da função criada:"
      ]
    },
    {
      "cell_type": "code",
      "execution_count": null,
      "id": "f3fef776",
      "metadata": {
        "id": "f3fef776"
      },
      "outputs": [],
      "source": []
    },
    {
      "cell_type": "markdown",
      "id": "d0fa571b",
      "metadata": {
        "id": "d0fa571b"
      },
      "source": [
        "### Exercício 099: Faça um programa que tenha uma função chamada maior(), que receba vários parâmetros com valores inteiros. Seu programa tem que analisar todos os valores e dizer qual deles é o maior."
      ]
    },
    {
      "cell_type": "code",
      "execution_count": null,
      "id": "f401d841",
      "metadata": {
        "id": "f401d841"
      },
      "outputs": [],
      "source": []
    },
    {
      "cell_type": "markdown",
      "id": "59ee993e",
      "metadata": {
        "id": "59ee993e"
      },
      "source": [
        "### Exercício 100: Faça um programa que tenha uma lista chamada números e duas funções chamadas sorteia() e somaPar(). A primeira função vai sortear 5 números e vai colocá-los dentro da lista e a segunda função vai mostrar a soma entre todos os valores pares sorteados pela função anterior."
      ]
    },
    {
      "cell_type": "code",
      "execution_count": null,
      "id": "cc16dffc",
      "metadata": {
        "id": "cc16dffc"
      },
      "outputs": [],
      "source": []
    },
    {
      "cell_type": "markdown",
      "id": "8bbf3a16",
      "metadata": {
        "id": "8bbf3a16"
      },
      "source": [
        "## Aula 21"
      ]
    },
    {
      "cell_type": "markdown",
      "id": "537810d4",
      "metadata": {
        "id": "537810d4"
      },
      "source": [
        "### Exercício 101: Crie um programa que tenha uma função chamada voto() que vai receber como parâmetro o ano de nascimento de uma pessoa, retornando um valor literal indicando se uma pessoa tem voto NEGADO, OPCIONAL e OBRIGATÓRIO nas eleições."
      ]
    },
    {
      "cell_type": "code",
      "execution_count": null,
      "id": "d7cd8f08",
      "metadata": {
        "id": "d7cd8f08"
      },
      "outputs": [],
      "source": []
    },
    {
      "cell_type": "markdown",
      "id": "4c082123",
      "metadata": {
        "id": "4c082123"
      },
      "source": [
        "### Exercício 102: Crie um programa que tenha uma função fatorial() que receba dois parâmetros: o primeiro que indique o número a calcular e outro chamado show, que será um valor lógico (opcional) indicando se será mostrado ou não na tela o processo de cálculo do fatorial."
      ]
    },
    {
      "cell_type": "code",
      "execution_count": null,
      "id": "77825bc2",
      "metadata": {
        "id": "77825bc2"
      },
      "outputs": [],
      "source": []
    },
    {
      "cell_type": "markdown",
      "id": "b17066ba",
      "metadata": {
        "id": "b17066ba"
      },
      "source": [
        "### Exercício 103: Faça um programa que tenha uma função chamada ficha(), que receba dois parâmetros opcionais: o nome de um jogador e quantos gols ele marcou. O programa deverá ser capaz de mostrar a ficha do jogador, mesmo que algum dado não tenha sido informado corretamente."
      ]
    },
    {
      "cell_type": "code",
      "execution_count": null,
      "id": "d2cb1b37",
      "metadata": {
        "id": "d2cb1b37"
      },
      "outputs": [],
      "source": []
    },
    {
      "cell_type": "markdown",
      "id": "56c0e5a8",
      "metadata": {
        "id": "56c0e5a8"
      },
      "source": [
        "### Exercício 104: Crie um programa que tenha a função leiaInt(), que vai funcionar de forma semelhante 'a função input() do Python, só que fazendo a validação para aceitar apenas um valor numérico."
      ]
    },
    {
      "cell_type": "code",
      "execution_count": null,
      "id": "a197c372",
      "metadata": {
        "id": "a197c372"
      },
      "outputs": [],
      "source": []
    },
    {
      "cell_type": "markdown",
      "id": "3f1141de",
      "metadata": {
        "id": "3f1141de"
      },
      "source": [
        "### Exercício 105: Faça um programa que tenha uma função notas() que pode receber várias notas de alunos e vai retornar um dicionário com as seguintes informações:"
      ]
    },
    {
      "cell_type": "code",
      "execution_count": null,
      "id": "0a8742e0",
      "metadata": {
        "id": "0a8742e0"
      },
      "outputs": [],
      "source": []
    },
    {
      "cell_type": "markdown",
      "id": "1f8e9d58",
      "metadata": {
        "id": "1f8e9d58"
      },
      "source": [
        "### Exercício 106: Faça um mini-sistema que utilize o Interactive Help do Python. O usuário vai digitar o comando e o manual vai aparecer. Quando o usuário digitar a palavra 'FIM', o programa se encerrará. Importante: use cores."
      ]
    },
    {
      "cell_type": "code",
      "execution_count": null,
      "id": "860649e0",
      "metadata": {
        "id": "860649e0"
      },
      "outputs": [],
      "source": []
    },
    {
      "cell_type": "markdown",
      "id": "9c0d90e2",
      "metadata": {
        "id": "9c0d90e2"
      },
      "source": [
        "## Aula 22"
      ]
    },
    {
      "cell_type": "markdown",
      "id": "f6e1833f",
      "metadata": {
        "id": "f6e1833f"
      },
      "source": [
        "### Exercício 107: Crie um módulo chamado moeda.py que tenha as funções incorporadas aumentar(), diminuir(), dobro() e metade(). Faça também um programa que importe esse módulo e use algumas dessas funções."
      ]
    },
    {
      "cell_type": "code",
      "execution_count": null,
      "id": "ca7c3d83",
      "metadata": {
        "id": "ca7c3d83"
      },
      "outputs": [],
      "source": []
    },
    {
      "cell_type": "markdown",
      "id": "4f0f42e3",
      "metadata": {
        "id": "4f0f42e3"
      },
      "source": [
        "### Exercício 108: Adapte o código do desafio #107, criando uma função adicional chamada moeda() que consiga mostrar os números como um valor monetário formatado."
      ]
    },
    {
      "cell_type": "code",
      "execution_count": null,
      "id": "69998305",
      "metadata": {
        "id": "69998305"
      },
      "outputs": [],
      "source": []
    },
    {
      "cell_type": "markdown",
      "id": "7220dcfa",
      "metadata": {
        "id": "7220dcfa"
      },
      "source": [
        "### Exercício 109: Modifique as funções que form criadas no desafio 107 para que elas aceitem um parâmetro a mais, informando se o valor retornado por elas vai ser ou não formatado pela função moeda(), desenvolvida no desafio 108."
      ]
    },
    {
      "cell_type": "code",
      "execution_count": null,
      "id": "7e48793d",
      "metadata": {
        "id": "7e48793d"
      },
      "outputs": [],
      "source": []
    },
    {
      "cell_type": "markdown",
      "id": "a3b87749",
      "metadata": {
        "id": "a3b87749"
      },
      "source": [
        "### Exercício 110: Adicione o módulo moeda.py criado nos desafios anteriores, uma função chamada resumo(), que mostre na tela algumas informações geradas pelas funções que já temos no módulo criado até aqui."
      ]
    },
    {
      "cell_type": "code",
      "execution_count": null,
      "id": "936a96df",
      "metadata": {
        "id": "936a96df"
      },
      "outputs": [],
      "source": []
    },
    {
      "cell_type": "markdown",
      "id": "57460b44",
      "metadata": {
        "id": "57460b44"
      },
      "source": [
        "### Exercício 111: Crie um pacote chamado utilidadesCeV que tenha dois módulos internos chamados moeda e dado. Transfira todas as funções utilizadas nos desafios 107, 108 e 109 para o primeiro pacote e mantenha tudo funcionando."
      ]
    },
    {
      "cell_type": "code",
      "execution_count": null,
      "id": "acaebd6b",
      "metadata": {
        "id": "acaebd6b"
      },
      "outputs": [],
      "source": []
    },
    {
      "cell_type": "markdown",
      "id": "1061015a",
      "metadata": {
        "id": "1061015a"
      },
      "source": [
        "### Exercício 112: Dentro do pacote utilidadesCeV que criamos no desafio 111, temos um módulo chamado dado. Crie uma função chamada leiaDinheiro() que seja capaz de funcionar como a função imputa(), mas com uma validação de dados para aceitar apenas valores que seja monetários."
      ]
    },
    {
      "cell_type": "code",
      "execution_count": null,
      "id": "4f563e11",
      "metadata": {
        "id": "4f563e11"
      },
      "outputs": [],
      "source": []
    },
    {
      "cell_type": "markdown",
      "id": "778d3017",
      "metadata": {
        "id": "778d3017"
      },
      "source": [
        "## Aula 23"
      ]
    },
    {
      "cell_type": "markdown",
      "id": "1acd1555",
      "metadata": {
        "id": "1acd1555"
      },
      "source": [
        "### Exercício 113: Reescreva a função leiaInt() que fizemos no desafio 104, incluindo agora a possibilidade da digitação de um número de tipo inválido. Aproveite e crie também uma função leiaFloat() com a mesma funcionalidade."
      ]
    },
    {
      "cell_type": "code",
      "execution_count": null,
      "id": "2d547111",
      "metadata": {
        "id": "2d547111"
      },
      "outputs": [],
      "source": []
    },
    {
      "cell_type": "markdown",
      "id": "61ec1bfc",
      "metadata": {
        "id": "61ec1bfc"
      },
      "source": [
        "### Exercício 114: Crie um código em que teste se o site pudim está acessível pelo computador usado."
      ]
    },
    {
      "cell_type": "code",
      "execution_count": null,
      "id": "e5c596c2",
      "metadata": {
        "id": "e5c596c2"
      },
      "outputs": [],
      "source": []
    }
  ],
  "metadata": {
    "kernelspec": {
      "display_name": "Python 3",
      "language": "python",
      "name": "python3"
    },
    "language_info": {
      "codemirror_mode": {
        "name": "ipython",
        "version": 3
      },
      "file_extension": ".py",
      "mimetype": "text/x-python",
      "name": "python",
      "nbconvert_exporter": "python",
      "pygments_lexer": "ipython3",
      "version": "3.7.11"
    },
    "colab": {
      "provenance": [],
      "include_colab_link": true
    }
  },
  "nbformat": 4,
  "nbformat_minor": 5
}